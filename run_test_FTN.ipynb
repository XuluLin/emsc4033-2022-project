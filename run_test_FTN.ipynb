{
 "cells": [
  {
   "cell_type": "code",
   "execution_count": 41,
   "id": "b77020f6",
   "metadata": {},
   "outputs": [],
   "source": [
    "import pytest\n",
    "from dependencies import *\n",
    "import download_raw_data\n",
    "import processing\n",
    "import normalisation\n",
    "import test_FTN"
   ]
  },
  {
   "cell_type": "code",
   "execution_count": 42,
   "id": "b03e2b09",
   "metadata": {},
   "outputs": [
    {
     "name": "stdout",
     "output_type": "stream",
     "text": [
      "============================= test session starts =============================\n",
      "platform win32 -- Python 3.8.12, pytest-7.1.2, pluggy-1.0.0\n",
      "rootdir: C:\\Users\\xulul\\Downloads\\honours\\NoisePy-master\\NoisePy-master\n",
      "collected 10 items\n",
      "\n",
      "test_FTN.py ..........                                                   [100%]\n",
      "\n",
      "============================= 10 passed in 54.49s =============================\n"
     ]
    }
   ],
   "source": [
    "! pytest\n",
    "        "
   ]
  },
  {
   "cell_type": "code",
   "execution_count": null,
   "id": "572ab73f",
   "metadata": {},
   "outputs": [],
   "source": []
  }
 ],
 "metadata": {
  "kernelspec": {
   "display_name": "Python 3 (ipykernel)",
   "language": "python",
   "name": "python3"
  },
  "language_info": {
   "codemirror_mode": {
    "name": "ipython",
    "version": 3
   },
   "file_extension": ".py",
   "mimetype": "text/x-python",
   "name": "python",
   "nbconvert_exporter": "python",
   "pygments_lexer": "ipython3",
   "version": "3.8.12"
  }
 },
 "nbformat": 4,
 "nbformat_minor": 5
}
